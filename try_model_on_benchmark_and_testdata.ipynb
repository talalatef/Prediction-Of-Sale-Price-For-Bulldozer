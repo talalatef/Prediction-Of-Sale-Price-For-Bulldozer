{
 "cells": [
  {
   "cell_type": "code",
   "execution_count": 28,
   "metadata": {},
   "outputs": [],
   "source": [
    "import pandas as pd\n",
    "import joblib\n",
    "from sklearn.preprocessing import LabelEncoder\n",
    "from sklearn.metrics import mean_squared_log_error\n",
    "from sklearn.impute import SimpleImputer"
   ]
  },
  {
   "cell_type": "code",
   "execution_count": 29,
   "metadata": {},
   "outputs": [],
   "source": [
    "file_path = \"test.csv\"\n",
    "df = pd.read_csv(file_path)"
   ]
  },
  {
   "cell_type": "code",
   "execution_count": 30,
   "metadata": {},
   "outputs": [],
   "source": [
    "numeric_columns_with_missing = ['SalesID', 'MachineID', 'ModelID', 'datasource','auctioneerID', 'YearMade', 'MachineHoursCurrentMeter']\n",
    "categorical_columns_with_missing = ['UsageBand', 'fiModelDesc', 'fiBaseModel',\n",
    "       'fiSecondaryDesc', 'fiModelSeries', 'fiModelDescriptor', 'ProductSize',\n",
    "       'fiProductClassDesc', 'state', 'ProductGroup', 'ProductGroupDesc',\n",
    "       'Drive_System', 'Enclosure', 'Forks', 'Pad_Type', 'Ride_Control',\n",
    "       'Stick', 'Transmission', 'Turbocharged', 'Blade_Extension',\n",
    "       'Blade_Width', 'Enclosure_Type', 'Engine_Horsepower', 'Hydraulics',\n",
    "       'Pushblock', 'Ripper', 'Scarifier', 'Tip_Control', 'Tire_Size',\n",
    "       'Coupler', 'Coupler_System', 'Grouser_Tracks', 'Hydraulics_Flow',\n",
    "       'Track_Type', 'Undercarriage_Pad_Width', 'Stick_Length', 'Thumb',\n",
    "       'Pattern_Changer', 'Grouser_Type', 'Backhoe_Mounting', 'Blade_Type',\n",
    "       'Travel_Controls', 'Differential_Type', 'Steering_Controls']\n",
    "# Numeric columns imputation with mean\n",
    "numeric_imputer = SimpleImputer(strategy='mean')\n",
    "df[numeric_columns_with_missing] = numeric_imputer.fit_transform(df[numeric_columns_with_missing])\n",
    "# Categorical columns imputation with most frequent or missing\n",
    "categorical_imputer = SimpleImputer(strategy='most_frequent')\n",
    "df[categorical_columns_with_missing] = categorical_imputer.fit_transform(df[categorical_columns_with_missing])"
   ]
  },
  {
   "cell_type": "code",
   "execution_count": 31,
   "metadata": {},
   "outputs": [],
   "source": [
    "df['saledate'] = pd.to_datetime(df['saledate'])\n",
    "df['sale_year'] = df['saledate'].dt.year\n",
    "df['sale_month'] = df['saledate'].dt.month\n",
    "df['sale_day'] = df['saledate'].dt.day\n",
    "df['sale_dayofweek'] = df['saledate'].dt.dayofweek\n",
    "df = df.drop(['saledate'], axis=1)"
   ]
  },
  {
   "cell_type": "code",
   "execution_count": 32,
   "metadata": {},
   "outputs": [],
   "source": [
    "features_to_encode = ['UsageBand', 'fiModelDesc', 'fiBaseModel',\n",
    "       'fiSecondaryDesc', 'fiModelSeries', 'fiModelDescriptor', 'ProductSize',\n",
    "       'fiProductClassDesc', 'state', 'ProductGroup', 'ProductGroupDesc',\n",
    "       'Drive_System', 'Enclosure', 'Forks', 'Pad_Type', 'Ride_Control',\n",
    "       'Stick', 'Transmission', 'Turbocharged', 'Blade_Extension',\n",
    "       'Blade_Width', 'Enclosure_Type', 'Engine_Horsepower', 'Hydraulics',\n",
    "       'Pushblock', 'Ripper', 'Scarifier', 'Tip_Control', 'Tire_Size',\n",
    "       'Coupler', 'Coupler_System', 'Grouser_Tracks', 'Hydraulics_Flow',\n",
    "       'Track_Type', 'Undercarriage_Pad_Width', 'Stick_Length', 'Thumb',\n",
    "       'Pattern_Changer', 'Grouser_Type', 'Backhoe_Mounting', 'Blade_Type',\n",
    "       'Travel_Controls', 'Differential_Type', 'Steering_Controls']\n",
    "for column in features_to_encode:\n",
    "        unique_types = df[column].apply(type).unique()\n",
    "        if len(unique_types) > 1:\n",
    "            print(f\"Column '{column}' has mixed data types: {unique_types}\")\n",
    "            \n",
    "            # Handle the mixed data types, for example, convert to numeric or handle separately\n",
    "            # For simplicity, let's convert the entire column to strings\n",
    "            df[column] = df[column].astype(str)\n",
    "            "
   ]
  },
  {
   "cell_type": "code",
   "execution_count": 33,
   "metadata": {},
   "outputs": [],
   "source": [
    "features_to_encode = ['UsageBand', 'fiModelDesc', 'fiBaseModel',\n",
    "       'fiSecondaryDesc', 'fiModelSeries', 'fiModelDescriptor', 'ProductSize',\n",
    "       'fiProductClassDesc', 'state', 'ProductGroup', 'ProductGroupDesc',\n",
    "       'Drive_System', 'Enclosure', 'Forks', 'Pad_Type', 'Ride_Control',\n",
    "       'Stick', 'Transmission', 'Turbocharged', 'Blade_Extension',\n",
    "       'Blade_Width', 'Enclosure_Type', 'Engine_Horsepower', 'Hydraulics',\n",
    "       'Pushblock', 'Ripper', 'Scarifier', 'Tip_Control', 'Tire_Size',\n",
    "       'Coupler', 'Coupler_System', 'Grouser_Tracks', 'Hydraulics_Flow',\n",
    "       'Track_Type', 'Undercarriage_Pad_Width', 'Stick_Length', 'Thumb',\n",
    "       'Pattern_Changer', 'Grouser_Type', 'Backhoe_Mounting', 'Blade_Type',\n",
    "       'Travel_Controls', 'Differential_Type', 'Steering_Controls']\n",
    "label_encoder = LabelEncoder()\n",
    "for feature in features_to_encode:\n",
    "    df[feature + '_label_encoded'] = label_encoder.fit_transform(df[feature])"
   ]
  },
  {
   "cell_type": "code",
   "execution_count": 34,
   "metadata": {},
   "outputs": [],
   "source": [
    "df = df.drop(features_to_encode, axis=1)"
   ]
  },
  {
   "cell_type": "code",
   "execution_count": 35,
   "metadata": {},
   "outputs": [],
   "source": [
    "# Load the trained model from the file\n",
    "loaded_model = joblib.load('trained_model.pkl')\n"
   ]
  },
  {
   "cell_type": "code",
   "execution_count": 36,
   "metadata": {},
   "outputs": [],
   "source": [
    "benchmark = pd.read_csv(\"random_forest_benchmark_test.csv\")\n",
    "y_bench = benchmark[\"SalePrice\"]"
   ]
  },
  {
   "cell_type": "code",
   "execution_count": 37,
   "metadata": {},
   "outputs": [
    {
     "data": {
      "text/plain": [
       "0.46678797077379036"
      ]
     },
     "execution_count": 37,
     "metadata": {},
     "output_type": "execute_result"
    }
   ],
   "source": [
    "# Predict on the test set\n",
    "y_pred = loaded_model.predict(df)\n",
    "# Evaluate the model\n",
    "rmsle_score = mean_squared_log_error(y_bench, y_pred) ** 0.5\n",
    "rmsle_score"
   ]
  }
 ],
 "metadata": {
  "kernelspec": {
   "display_name": "Python 3",
   "language": "python",
   "name": "python3"
  },
  "language_info": {
   "codemirror_mode": {
    "name": "ipython",
    "version": 3
   },
   "file_extension": ".py",
   "mimetype": "text/x-python",
   "name": "python",
   "nbconvert_exporter": "python",
   "pygments_lexer": "ipython3",
   "version": "3.12.1"
  }
 },
 "nbformat": 4,
 "nbformat_minor": 2
}
