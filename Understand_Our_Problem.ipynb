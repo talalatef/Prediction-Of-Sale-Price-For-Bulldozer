{
 "cells": [
  {
   "cell_type": "markdown",
   "metadata": {},
   "source": [
    "## 1. Business Understanding\n",
    "- **Objective:** Fast Iron aims to develop a \"blue book for bull dozers\" to assist customers in determining the value of their heavy equipment fleet at auction. This involves predicting the sale price of heavy equipment based on usage, equipment type, and configuration details available from auction result postings.\n",
    "- **Significance:** The accurate prediction of sale prices is crucial for both Fast Iron and its customers in the auction industry, providing a reliable valuation tool for heavy equipment.\n",
    "\n",
    "## 2. Analytical Approach\n",
    "- **Analytical Problem Type:** The problem at hand is a `regression task`, as it involves predicting a continuous variable—the sale price. This guides us to explore regression models capable of handling predictive tasks, such as Linear Regression, Decision Tree Regression, and Ensemble methods like Random Forests.\n",
    "- **Model Evaluation Metrics:** To assess model performance, metrics `RMSLE` (root mean squared log error) between the actual and predicted auction prices., aligning with the nature of the regression problem.\n",
    "\n",
    "## 3. Data Requirements\n",
    "- **Data Source:** The dataset is sourced from Kaggle and includes information from auction results.\n",
    "- **Key Features Needed:**\n",
    "  - **Usage Patterns:** Insights into how the heavy equipment has been used over time.\n",
    "  - **Equipment Types:** Categorization of the type of heavy equipment.\n",
    "  - **Configuration Details:** Specifics regarding the equipment's configuration.\n",
    "- **Target Variable:** The target variable is the `sale price` of the heavy equipment, which is what we aim to predict.\n",
    "- **Data Quality Check:** During the `data preparation` phase, attention will be given to identifying and handling missing or incomplete data to ensure the robustness of the analysis.\n"
   ]
  }
 ],
 "metadata": {
  "language_info": {
   "name": "python"
  }
 },
 "nbformat": 4,
 "nbformat_minor": 2
}
